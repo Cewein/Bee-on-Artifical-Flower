{
 "cells": [
  {
   "cell_type": "markdown",
   "metadata": {},
   "source": [
    "### Library"
   ]
  },
  {
   "cell_type": "code",
   "execution_count": 2,
   "metadata": {},
   "outputs": [],
   "source": [
    "import glob, os\n",
    "import subprocess, json\n",
    "import cv2"
   ]
  },
  {
   "cell_type": "code",
   "execution_count": 9,
   "metadata": {},
   "outputs": [],
   "source": [
    "def length_opencv(filename):\n",
    "    \n",
    "    video = cv2.VideoCapture(filename)\n",
    "\n",
    "    fps = video.get(cv2.CAP_PROP_FPS)\n",
    "    frame_count = video.get(cv2.CAP_PROP_FRAME_COUNT)\n",
    "\n",
    "    return fps, frame_count\n",
    "\n",
    "def length_ffprobe(filename):\n",
    "    try:\n",
    "        result = subprocess.check_output(\n",
    "                f'ffprobe -v quiet -show_streams -select_streams v:0 -of json \"{filename}\"',\n",
    "                shell=True).decode()\n",
    "        fields = json.loads(result)['streams'][0]\n",
    "\n",
    "        duration = fields['duration']\n",
    "        fps      = eval(fields['r_frame_rate'])\n",
    "        return duration, fps\n",
    "    except:\n",
    "        return 0.0,0.0"
   ]
  },
  {
   "cell_type": "code",
   "execution_count": 12,
   "metadata": {},
   "outputs": [
    {
     "name": "stdout",
     "output_type": "stream",
     "text": [
      "89413.44000000006\n"
     ]
    }
   ],
   "source": [
    "totalDuration = 0.0\n",
    "\n",
    "for file in glob.glob(\"C:/Users/Cewein/Documents/Videos/**/*.MP4\", recursive=True):\n",
    "    duration, fps = length_ffprobe(file)\n",
    "    totalDuration += float(duration)\n",
    "\n",
    "print(totalDuration)"
   ]
  },
  {
   "cell_type": "code",
   "execution_count": 15,
   "metadata": {},
   "outputs": [
    {
     "name": "stdout",
     "output_type": "stream",
     "text": [
      "1.0348777777777785\n"
     ]
    }
   ],
   "source": [
    "print(totalDuration/60/60/24)"
   ]
  }
 ],
 "metadata": {
  "kernelspec": {
   "display_name": "Python 3",
   "language": "python",
   "name": "python3"
  },
  "language_info": {
   "codemirror_mode": {
    "name": "ipython",
    "version": 3
   },
   "file_extension": ".py",
   "mimetype": "text/x-python",
   "name": "python",
   "nbconvert_exporter": "python",
   "pygments_lexer": "ipython3",
   "version": "3.11.3"
  },
  "orig_nbformat": 4
 },
 "nbformat": 4,
 "nbformat_minor": 2
}
